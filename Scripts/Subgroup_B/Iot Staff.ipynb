{
 "cells": [
  {
   "cell_type": "code",
   "execution_count": null,
   "metadata": {},
   "outputs": [],
   "source": [
    "##IoT and staff prediction"
   ]
  },
  {
   "cell_type": "code",
   "execution_count": 2,
   "metadata": {},
   "outputs": [],
   "source": [
    "import pandas as pd\n",
    "iot = pd.read_csv(\"synthetic_iot_data.csv\") "
   ]
  },
  {
   "cell_type": "code",
   "execution_count": 3,
   "metadata": {},
   "outputs": [
    {
     "name": "stdout",
     "output_type": "stream",
     "text": [
      "                Timestamp                           Attraction    Age_Group  \\\n",
      "0     2024-12-02 17:13:25         Puss In Boots' Giant Journey       Senior   \n",
      "1     2024-12-01 13:26:11         Puss In Boots' Giant Journey        Adult   \n",
      "2     2024-11-29 07:52:28         Puss In Boots' Giant Journey        Child   \n",
      "3     2024-08-01 16:39:11         Puss In Boots' Giant Journey  Young Adult   \n",
      "4     2024-05-31 18:22:35                 Revenge of the Mummy        Child   \n",
      "...                   ...                                  ...          ...   \n",
      "4995  2024-08-03 15:21:18                 Revenge of the Mummy       Senior   \n",
      "4996  2024-09-01 17:42:25                 Revenge of the Mummy         Teen   \n",
      "4997  2024-09-30 08:38:57               Transformers: The Ride         Teen   \n",
      "4998  2024-11-29 14:36:58  Sesame Street Spaghetti Space Chase        Adult   \n",
      "4999  2024-10-31 22:14:04  Sesame Street Spaghetti Space Chase        Adult   \n",
      "\n",
      "      Gender Loyalty_Member  Check_In_Time  Check_Out_Time  Step_Count  \\\n",
      "0     Female             No              9              14       12775   \n",
      "1       Male             No             13              16       14102   \n",
      "2       Male             No             12              17       13212   \n",
      "3       Male             No              9              16       13017   \n",
      "4     Female             No             12              17        9916   \n",
      "...      ...            ...            ...             ...         ...   \n",
      "4995  Female             No              9              16       10647   \n",
      "4996    Male             No             14              17       10780   \n",
      "4997    Male            Yes             13              16       16306   \n",
      "4998    Male             No             11              13        9237   \n",
      "4999    Male             No             14              17       12946   \n",
      "\n",
      "      Transaction_Amount  Guest_Satisfaction_Score  Average_Queue_Time  \\\n",
      "0                    171                  3.945533                  51   \n",
      "1                    217                  4.292259                  73   \n",
      "2                    210                  3.121087                  64   \n",
      "3                    250                  1.186939                  89   \n",
      "4                    182                  2.711499                  60   \n",
      "...                  ...                       ...                 ...   \n",
      "4995                 202                  3.706908                  68   \n",
      "4996                 188                  2.352432                  79   \n",
      "4997                 201                  1.788152                  84   \n",
      "4998                 232                  2.722518                  73   \n",
      "4999                 168                  2.450543                  70   \n",
      "\n",
      "      Number_of_People_in_Queue  Temperature  Rainfall   Humidity  \n",
      "0                            92    27.022338  0.000116  81.321270  \n",
      "1                            50    29.069799 -0.000024  85.896144  \n",
      "2                           179    26.446438  0.000404  89.083054  \n",
      "3                            71    26.442944 -0.000031  85.951381  \n",
      "4                            67    27.798251  0.000373  82.945439  \n",
      "...                         ...          ...       ...        ...  \n",
      "4995                         50    29.084904  0.000466  85.888283  \n",
      "4996                         64    28.108142  0.000379  81.203550  \n",
      "4997                        159    28.107185  0.000803  82.968160  \n",
      "4998                        159    27.062777 -0.000274  77.604220  \n",
      "4999                        150    29.032120 -0.001161  86.030841  \n",
      "\n",
      "[5000 rows x 15 columns]\n"
     ]
    }
   ],
   "source": [
    "print(iot)"
   ]
  },
  {
   "cell_type": "code",
   "execution_count": 7,
   "metadata": {},
   "outputs": [
    {
     "name": "stdout",
     "output_type": "stream",
     "text": [
      "    time_code      date total_sales admission_sales restaurant_sales  \\\n",
      "1  2000000101  2000年 1月       15650            8360             7290   \n",
      "2  2000000202  2000年 2月       14509            7377             7132   \n",
      "3  2000000303  2000年 3月       28629           14695            13934   \n",
      "4  2000000404  2000年 4月       23159           12416            10743   \n",
      "5  2000000505  2000年 5月       29505           16226            13279   \n",
      "\n",
      "  total_visitors individual_visitors group_visitors total_employees  \\\n",
      "1        2996812             2755960         240852           22319   \n",
      "2        2654913             2236941         417972           22565   \n",
      "3        5272017             4458895         813122           24063   \n",
      "4        4415311             3638835         776476           24486   \n",
      "5        6036756             4727314        1309442           24762   \n",
      "\n",
      "  regular_workers part_time_workers  \n",
      "1            6164             16155  \n",
      "2            6095             16470  \n",
      "3            6635             17428  \n",
      "4            6823             17663  \n",
      "5            6746             18016  \n"
     ]
    }
   ],
   "source": [
    "import pandas as pd\n",
    "\n",
    "# Read the Excel file\n",
    "file_path = \"hv15401j.xls\"  \n",
    "data = pd.read_excel(file_path, header=6, sheet_name='月・実数')\n",
    "data = data.drop(index=0)\n",
    "data = data.drop(data.columns[-1], axis=1)\n",
    "data.columns = [\"time_code\", \"date\", \"total_sales\", \"admission_sales\", \"restaurant_sales\", \"total_visitors\",\n",
    "              \"individual_visitors\", \"group_visitors\", \"total_employees\", \"regular_workers\", \"part_time_workers\"]\n",
    "\n",
    "# Display the first few rows\n",
    "print(data.head())"
   ]
  },
  {
   "cell_type": "code",
   "execution_count": 8,
   "metadata": {},
   "outputs": [
    {
     "name": "stdout",
     "output_type": "stream",
     "text": [
      "    time_code       date total_sales admission_sales restaurant_sales  \\\n",
      "1  2000000101 2000-01-01       15650            8360             7290   \n",
      "2  2000000202 2000-02-01       14509            7377             7132   \n",
      "3  2000000303 2000-03-01       28629           14695            13934   \n",
      "4  2000000404 2000-04-01       23159           12416            10743   \n",
      "5  2000000505 2000-05-01       29505           16226            13279   \n",
      "\n",
      "  total_visitors individual_visitors group_visitors total_employees  \\\n",
      "1        2996812             2755960         240852           22319   \n",
      "2        2654913             2236941         417972           22565   \n",
      "3        5272017             4458895         813122           24063   \n",
      "4        4415311             3638835         776476           24486   \n",
      "5        6036756             4727314        1309442           24762   \n",
      "\n",
      "  regular_workers part_time_workers  \n",
      "1            6164             16155  \n",
      "2            6095             16470  \n",
      "3            6635             17428  \n",
      "4            6823             17663  \n",
      "5            6746             18016  \n"
     ]
    }
   ],
   "source": [
    "import pandas as pd\n",
    "\n",
    "# Assume your DataFrame is named 'data'\n",
    "# Define a regex pattern to match dates like \"2000年1月\" or \"2000年 1月\"\n",
    "date_pattern = r'^\\d{4}年\\s?\\d{1,2}月$'\n",
    "\n",
    "# Create a mask to select only rows that match the date pattern\n",
    "mask = data[\"date\"].str.match(date_pattern)\n",
    "\n",
    "# Filter the DataFrame to keep only valid date rows\n",
    "data_valid = data[mask].copy()\n",
    "\n",
    "# Remove any extra space between \"年\" and the month\n",
    "data_valid[\"date\"] = data_valid[\"date\"].str.replace(\"年 \", \"年\", regex=False)\n",
    "\n",
    "# Convert the date column to datetime using the correct format\n",
    "data_valid[\"date\"] = pd.to_datetime(data_valid[\"date\"], format=\"%Y年%m月\")\n",
    "\n",
    "print(data_valid.head())"
   ]
  },
  {
   "cell_type": "code",
   "execution_count": 9,
   "metadata": {},
   "outputs": [],
   "source": [
    "iot[\"Timestamp\"] = pd.to_datetime(iot[\"Timestamp\"])\n",
    "# Create a year-month column in attendance and data_valid (the cleaned sales/visitor dataset)\n",
    "iot[\"year_month\"] = iot[\"Timestamp\"].dt.to_period(\"M\")\n",
    "data_valid[\"year_month\"] = pd.to_datetime(data_valid[\"date\"], errors=\"coerce\").dt.to_period(\"M\") \n",
    "\n",
    "# Merge attendance data with sales/visitor dataset on the date\n",
    "merged_df = pd.merge(iot, data_valid, left_on=\"year_month\", right_on=\"year_month\", how=\"left\")"
   ]
  },
  {
   "cell_type": "code",
   "execution_count": 14,
   "metadata": {},
   "outputs": [],
   "source": [
    "import numpy as np\n",
    "merged_df.head()\n",
    "merged_df[\"staff_count\"] = np.ceil(merged_df[\"total_employees\"]/18)\n",
    "merged_df[\"num_of_visitor\"] = np.ceil(merged_df[\"total_visitors\"]/18)"
   ]
  },
  {
   "cell_type": "code",
   "execution_count": 20,
   "metadata": {},
   "outputs": [
    {
     "name": "stdout",
     "output_type": "stream",
     "text": [
      "Index(['Timestamp', 'Attraction', 'Age_Group', 'Gender', 'Loyalty_Member',\n",
      "       'Check_In_Time', 'Check_Out_Time', 'Step_Count', 'Transaction_Amount',\n",
      "       'Guest_Satisfaction_Score', 'Average_Queue_Time',\n",
      "       'Number_of_People_in_Queue', 'Temperature', 'Rainfall', 'Humidity',\n",
      "       'year_month', 'time_code', 'date', 'total_sales', 'admission_sales',\n",
      "       'restaurant_sales', 'total_visitors', 'individual_visitors',\n",
      "       'group_visitors', 'total_employees', 'regular_workers',\n",
      "       'part_time_workers', 'staff_count', 'num_of_visitor'],\n",
      "      dtype='object')\n"
     ]
    }
   ],
   "source": [
    "merged_df.head()\n",
    "print(merged_df.columns)"
   ]
  },
  {
   "cell_type": "code",
   "execution_count": null,
   "metadata": {},
   "outputs": [
    {
     "name": "stderr",
     "output_type": "stream",
     "text": [
      "c:\\Users\\ReginaNoel\\anaconda3\\Lib\\site-packages\\sklearn\\preprocessing\\_encoders.py:868: FutureWarning: `sparse` was renamed to `sparse_output` in version 1.2 and will be removed in 1.4. `sparse_output` is ignored unless you leave `sparse` to its default value.\n",
      "  warnings.warn(\n"
     ]
    },
    {
     "name": "stdout",
     "output_type": "stream",
     "text": [
      "MAE: 8182.43\n",
      "RMSE: 17708.07\n",
      "R² Score: 0.83\n"
     ]
    }
   ],
   "source": [
    "from sklearn.metrics import mean_absolute_error, mean_squared_error, r2_score\n",
    "from sklearn.model_selection import train_test_split\n",
    "from sklearn.preprocessing import OneHotEncoder\n",
    "from sklearn.ensemble import RandomForestRegressor\n",
    "import pandas as pd\n",
    "\n",
    "# Select categorical and numerical columns separately\n",
    "categorical_cols = [\"Attraction\", \"Age_Group\", \"Gender\", \"Loyalty_Member\"]\n",
    "numerical_cols = [\"staff_count\", \"Step_Count\", \"Transaction_Amount\", \"Guest_Satisfaction_Score\",\n",
    "                  \"Average_Queue_Time\", \"Number_of_People_in_Queue\", \"Temperature\", \"Rainfall\", \"Humidity\"]\n",
    "\n",
    "# One-Hot Encode categorical features\n",
    "encoder = OneHotEncoder(handle_unknown=\"ignore\", sparse=False)\n",
    "encoded_cats = encoder.fit_transform(merged_df[categorical_cols])\n",
    "\n",
    "# Convert to DataFrame and get column names\n",
    "encoded_df = pd.DataFrame(encoded_cats, columns=encoder.get_feature_names_out(categorical_cols))\n",
    "\n",
    "# Reset index to match the original DataFrame\n",
    "encoded_df.index = merged_df.index\n",
    "\n",
    "# Concatenate encoded data with numerical data\n",
    "X = pd.concat([merged_df[numerical_cols], encoded_df], axis=1)\n",
    "\n",
    "# Target variable\n",
    "y = merged_df[\"num_of_visitor\"]\n",
    "\n",
    "# Train-test split\n",
    "X_train, X_test, y_train, y_test = train_test_split(X, y, test_size=0.2, random_state=42)\n",
    "\n",
    "# Train the model\n",
    "model = RandomForestRegressor(n_estimators=100, random_state=42)\n",
    "model.fit(X_train, y_train)\n",
    "\n",
    "# Predictions\n",
    "y_pred = model.predict(X_test)\n",
    "\n",
    "# Evaluation Metrics\n",
    "mae = mean_absolute_error(y_test, y_pred)\n",
    "rmse = np.sqrt(mean_squared_error(y_test, y_pred))\n",
    "r2 = r2_score(y_test, y_pred)\n",
    "\n",
    "print(f\"MAE: {mae:.2f}\")\n",
    "print(f\"RMSE: {rmse:.2f}\")\n",
    "print(f\"R² Score: {r2:.2f}\")\n"
   ]
  }
 ],
 "metadata": {
  "kernelspec": {
   "display_name": "base",
   "language": "python",
   "name": "python3"
  },
  "language_info": {
   "codemirror_mode": {
    "name": "ipython",
    "version": 3
   },
   "file_extension": ".py",
   "mimetype": "text/x-python",
   "name": "python",
   "nbconvert_exporter": "python",
   "pygments_lexer": "ipython3",
   "version": "3.11.7"
  }
 },
 "nbformat": 4,
 "nbformat_minor": 2
}
