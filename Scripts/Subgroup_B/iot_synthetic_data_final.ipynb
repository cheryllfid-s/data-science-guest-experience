{
 "cells": [
  {
   "cell_type": "markdown",
   "metadata": {},
   "source": [
    "# Final IoT data generation with check-in and check-out times for attractions"
   ]
  },
  {
   "cell_type": "markdown",
   "metadata": {},
   "source": [
    "First, change your working directory to ensure that it's in the scripts folder. "
   ]
  },
  {
   "cell_type": "code",
   "execution_count": 3,
   "metadata": {},
   "outputs": [
    {
     "name": "stdout",
     "output_type": "stream",
     "text": [
      "Current Working Directory: C:\\Users\\parma\\data-science-guest-experience\\data-science-guest-experience\\Scripts\\Subgroup_B\n"
     ]
    }
   ],
   "source": [
    "import os\n",
    "\n",
    "# Change the working directory\n",
    "new_path = r\"C:\\Users\\parma\\data-science-guest-experience\\data-science-guest-experience\\Scripts\\Subgroup_B\"\n",
    "os.chdir(new_path)\n",
    "\n",
    "# Print the current working directory\n",
    "print(\"Current Working Directory:\", os.getcwd())"
   ]
  },
  {
   "cell_type": "code",
   "execution_count": 6,
   "metadata": {},
   "outputs": [
    {
     "name": "stdout",
     "output_type": "stream",
     "text": [
      "         Date                            Visitor_ID Loyalty_Member  Age  \\\n",
      "0  2024-04-12  51ee8898-7899-4eeb-9c8f-f3ee456abc67            Yes   53   \n",
      "1  2024-04-09  ffc105c8-7ed0-4adc-bea0-c49b6373d262             No   22   \n",
      "2  2024-11-09  bbf747e7-ecbf-45c4-aafa-c822ae797ef9             No   16   \n",
      "3  2024-02-20  33959313-7d6e-420d-9e02-cecd9e97315f             No   45   \n",
      "4  2024-01-14  18114ed9-fe3b-4880-a121-c30fd4ad2a45             No   39   \n",
      "\n",
      "   Gender      Theme_Zone  Check_In_Time  Check_Out_Time  \\\n",
      "0  Female  The Lost World             13              14   \n",
      "1    Male        New York             12              14   \n",
      "2    Male   Ancient Egypt             11              13   \n",
      "3    Male     Sci-Fi City             13              15   \n",
      "4    Male    Far Far Away             12              14   \n",
      "\n",
      "                                 Attractions_Visited  Average_Queue_Time  \\\n",
      "0                                       Canopy Flyer                  85   \n",
      "1                Sesame Street Spaghetti Space Chase                  65   \n",
      "2                               Revenge of the Mummy                  69   \n",
      "3  Transformers: The Ride, Battlestar Galactica: ...                  68   \n",
      "4                       Puss In Boots' Giant Journey                  74   \n",
      "\n",
      "   Restaurant_Spending  Merchandise_Spending  Total_Spending  \n",
      "0                   12                     0              12  \n",
      "1                   13                    41              54  \n",
      "2                   13                    44              57  \n",
      "3                   13                     0              13  \n",
      "4                    0                     0               0  \n"
     ]
    }
   ],
   "source": [
    "import os\n",
    "import pandas as pd\n",
    "import numpy as np\n",
    "from datetime import datetime, timedelta\n",
    "from faker import Faker\n",
    "\n",
    "# Initialize Faker instance\n",
    "fake = Faker()\n",
    "\n",
    "# Define theme zones and attractions\n",
    "THEME_ZONES = [\n",
    "    \"Hollywood\", \"New York\", \"Sci-Fi City\", \"Ancient Egypt\", \"The Lost World\", \"Far Far Away\"\n",
    "]\n",
    "\n",
    "ATTRACTIONS = {\n",
    "    \"Ancient Egypt\": [\"Revenge of the Mummy\"],\n",
    "    \"Sci-Fi City\": [\"Battlestar Galactica: CYLON\", \"Transformers: The Ride\", \"Battlestar Galactica\"],\n",
    "    \"New York\": [\"Sesame Street Spaghetti Space Chase\"],\n",
    "    \"Hollywood\": [], \"The Lost World\": [\"Canopy Flyer\"], \"Far Far Away\": [\"Puss In Boots' Giant Journey\"]\n",
    "}\n",
    "\n",
    "POPULAR_ATTRACTIONS = sum(ATTRACTIONS.values(), [])\n",
    "\n",
    "# Function to generate synthetic IoT data\n",
    "def generate_synthetic_data(num_samples=5000):\n",
    "    data = []\n",
    "    np.random.seed(42)\n",
    "    start_date = datetime(2024, 1, 1)\n",
    "    end_date = datetime(2024, 12, 31)\n",
    "    date_range = pd.date_range(start=start_date, end=end_date)\n",
    "\n",
    "    for _ in range(num_samples):\n",
    "        visit_date = np.random.choice(date_range)\n",
    "        theme_zone = np.random.choice(THEME_ZONES, p=[0.1, 0.15, 0.2, 0.2, 0.15, 0.2])\n",
    "        \n",
    "        # Generate visitor ID and loyalty status\n",
    "        visitor_id = fake.uuid4()\n",
    "        loyalty_member = np.random.choice([\"Yes\", \"No\"], p=[0.2, 0.8])\n",
    "\n",
    "        # Generate demographic data\n",
    "        age = fake.random_int(min=5, max=70)  # Random age from 5 to 70\n",
    "        gender = np.random.choice([\"Male\", \"Female\"], p=[0.5, 0.5])\n",
    "\n",
    "        # Assigning check-in and check-out times based on the theme zone's popularity\n",
    "        check_in_time = np.random.randint(9, 15)\n",
    "        stay_duration = np.random.randint(2, 4) if theme_zone in [\"Sci-Fi City\", \"Ancient Egypt\"] else np.random.randint(1, 3)\n",
    "        check_out_time = min(check_in_time + stay_duration, 17)\n",
    "\n",
    "        # Assign an attraction visit count (higher for full-day visitors)\n",
    "        num_attractions_visited = np.random.randint(3, 4) if check_out_time - check_in_time < 5 else np.random.randint(5, 7)\n",
    "        \n",
    "        attractions_visited = np.random.choice(\n",
    "            ATTRACTIONS.get(theme_zone, []), size=min(num_attractions_visited, len(ATTRACTIONS.get(theme_zone, []))), replace=False\n",
    "        ).tolist()\n",
    "\n",
    "        # Assign queue times based on attraction popularity\n",
    "        base_wait = np.random.randint(60, 90) if any(attraction in POPULAR_ATTRACTIONS for attraction in attractions_visited) else np.random.randint(30, 60)\n",
    "\n",
    "        # Spending behavior\n",
    "        restaurant_spending = np.random.randint(10, 16) if np.random.rand() < 0.6 else 0\n",
    "        merchandise_spending = np.random.randint(30, 51) if np.random.rand() < 0.4 else 0\n",
    "        total_spending = restaurant_spending + merchandise_spending\n",
    "\n",
    "        # Append data\n",
    "        data.append({\n",
    "            \"Date\": pd.Timestamp(visit_date).strftime(\"%Y-%m-%d\"),\n",
    "            \"Visitor_ID\": visitor_id,\n",
    "            \"Loyalty_Member\": loyalty_member,\n",
    "            \"Age\": age,\n",
    "            \"Gender\": gender,\n",
    "            \"Theme_Zone\": theme_zone,\n",
    "            \"Check_In_Time\": check_in_time,\n",
    "            \"Check_Out_Time\": check_out_time,\n",
    "            \"Attractions_Visited\": \", \".join(attractions_visited),\n",
    "            \"Average_Queue_Time\": base_wait,\n",
    "            \"Restaurant_Spending\": restaurant_spending,\n",
    "            \"Merchandise_Spending\": merchandise_spending,\n",
    "            \"Total_Spending\": total_spending\n",
    "        })\n",
    "\n",
    "    df = pd.DataFrame(data)\n",
    "    return df\n",
    "\n",
    "# Generate synthetic data\n",
    "data_df = generate_synthetic_data(5000)\n",
    "print(data_df.head())\n",
    "\n",
    "# Save to CSV\n",
    "data_df.to_csv(\"../../data/synthetic_iot_data_v2.csv\", index=False)\n"
   ]
  }
 ],
 "metadata": {
  "kernelspec": {
   "display_name": "Python 3",
   "language": "python",
   "name": "python3"
  },
  "language_info": {
   "codemirror_mode": {
    "name": "ipython",
    "version": 3
   },
   "file_extension": ".py",
   "mimetype": "text/x-python",
   "name": "python",
   "nbconvert_exporter": "python",
   "pygments_lexer": "ipython3",
   "version": "3.10.6"
  }
 },
 "nbformat": 4,
 "nbformat_minor": 2
}
