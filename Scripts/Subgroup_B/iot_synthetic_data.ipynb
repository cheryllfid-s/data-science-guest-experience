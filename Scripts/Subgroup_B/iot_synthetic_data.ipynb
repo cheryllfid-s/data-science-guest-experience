{
 "cells": [
  {
   "cell_type": "code",
   "execution_count": null,
   "metadata": {},
   "outputs": [
    {
     "name": "stdout",
     "output_type": "stream",
     "text": [
      "   Visitor_ID  Step_Count  Transaction_Amount  Check_In_Time  Check_Out_Time  \\\n",
      "0        1073       15674           -2.578657      11.247566       18.505297   \n",
      "1         452       21978           -2.760604       8.417061       16.959721   \n",
      "2         295       15541           34.221996      12.058301       16.639478   \n",
      "3         589       16417           11.501552       9.947303       17.410129   \n",
      "4         127        8249           16.153954      12.315556       19.222081   \n",
      "\n",
      "  Loyalty_Member Weather_Condition  Age      Gender  Guest_Satisfaction_Score  \n",
      "0             No             Sunny   16        Male                  3.621753  \n",
      "1            Yes             Sunny   40  Non-Binary                  3.523501  \n",
      "2             No             Sunny   11      Female                  4.481646  \n",
      "3             No             Rainy   36        Male                  3.623221  \n",
      "4            Yes             Sunny   40      Female                  4.125973  \n"
     ]
    }
   ],
   "source": [
    "import pandas as pd\n",
    "import numpy as np\n",
    "from ctgan import CTGAN\n",
    "\n",
    "np.random.seed(42)\n",
    "n_samples = 1000  # Number of visitors\n",
    "\n",
    "#transaction amount is taken from this website https://www.tampabay.com/fun/how-much-are-people-willing-to-spend-at-theme-parks-more-every-year-20190530/\n",
    "data = pd.DataFrame({\n",
    "    'Visitor_ID': np.arange(1, n_samples + 1),\n",
    "    'Step_Count': np.random.normal(loc=12000, scale=3000, size=n_samples).astype(int),\n",
    "    'Transaction_Amount': np.random.normal(loc=125, scale=30, size=n_samples).round(2),\n",
    "    'Check_In_Time': np.random.uniform(9, 13, n_samples).round(2),  # Check-in between 9 AM - 1 PM\n",
    "    'Check_Out_Time': np.random.uniform(17, 22, n_samples).round(2),  # Check-out between 5 PM - 10 PM\n",
    "    'Loyalty_Member': np.random.choice(['Yes', 'No'], size=n_samples, p=[0.3, 0.7]),  # 30% are members\n",
    "    'Weather_Condition': np.random.choice(['Sunny', 'Cloudy', 'Rainy'], size=n_samples, p=[0.6, 0.3, 0.1]),\n",
    "    'Age': np.random.normal(loc=35, scale=10, size=n_samples).astype(int),  # Avg visitor age ~35\n",
    "    'Gender': np.random.choice(['Male', 'Female'], size=n_samples, p=[0.5, 0.5]),\n",
    "    'Guest_Satisfaction_Score': np.random.uniform(1, 5, n_samples).round(1)  # 1-5 rating\n",
    "})\n",
    "\n",
    "# Define categorical (discrete) columns\n",
    "discrete_columns = ['Loyalty_Member', 'Weather_Condition', 'Gender']\n",
    "\n",
    "# Train an SDV model\n",
    "model = CTGAN(epochs=500)  # Increase epochs for better learning\n",
    "model.fit(data, discrete_columns=discrete_columns)\n",
    "\n",
    "# Generate synthetic data\n",
    "synthetic_data = model.sample(n_samples)\n",
    "\n",
    "# Show sample synthetic data\n",
    "print(synthetic_data.head())\n",
    "\n",
    "# Save synthetic data to CSV\n",
    "synthetic_data.to_csv(\"synthetic_theme_park_data.csv\", index=False)\n"
   ]
  }
 ],
 "metadata": {
  "kernelspec": {
   "display_name": "Python 3",
   "language": "python",
   "name": "python3"
  },
  "language_info": {
   "codemirror_mode": {
    "name": "ipython",
    "version": 3
   },
   "file_extension": ".py",
   "mimetype": "text/x-python",
   "name": "python",
   "nbconvert_exporter": "python",
   "pygments_lexer": "ipython3",
   "version": "3.12.2"
  }
 },
 "nbformat": 4,
 "nbformat_minor": 2
}
